{
 "cells": [
  {
   "cell_type": "markdown",
   "metadata": {
    "id": "C-mI3pMh1HQ0"
   },
   "source": [
    "## Preparation"
   ]
  },
  {
   "cell_type": "code",
   "execution_count": null,
   "metadata": {
    "colab": {
     "base_uri": "https://localhost:8080/"
    },
    "executionInfo": {
     "elapsed": 21025,
     "status": "ok",
     "timestamp": 1756481548728,
     "user": {
      "displayName": "S Li",
      "userId": "16183130557533314590"
     },
     "user_tz": -60
    },
    "id": "-4kjvxjxCs7D",
    "outputId": "c88e5523-9b3c-47e4-ad41-a10e4f7652f9"
   },
   "outputs": [
    {
     "name": "stdout",
     "output_type": "stream",
     "text": [
      "Mounted at /content/drive\n"
     ]
    }
   ],
   "source": [
    "from google.colab import drive\n",
    "drive.mount('/content/drive')"
   ]
  },
  {
   "cell_type": "code",
   "execution_count": null,
   "metadata": {
    "colab": {
     "base_uri": "https://localhost:8080/"
    },
    "executionInfo": {
     "elapsed": 28470,
     "status": "ok",
     "timestamp": 1756481611934,
     "user": {
      "displayName": "S Li",
      "userId": "16183130557533314590"
     },
     "user_tz": -60
    },
    "id": "fnfFBBR7-24N",
    "outputId": "9bf9f259-9bc9-411c-e4ef-838b2de9a6e6"
   },
   "outputs": [
    {
     "name": "stdout",
     "output_type": "stream",
     "text": [
      "\u001b[2K   \u001b[90m━━━━━━━━━━━━━━━━━━━━━━━━━━━━━━━━━━━━━━━━\u001b[0m \u001b[32m74.5/74.5 kB\u001b[0m \u001b[31m4.1 MB/s\u001b[0m eta \u001b[36m0:00:00\u001b[0m\n",
      "\u001b[2K   \u001b[90m━━━━━━━━━━━━━━━━━━━━━━━━━━━━━━━━━━━━━━━━\u001b[0m \u001b[32m2.5/2.5 MB\u001b[0m \u001b[31m45.7 MB/s\u001b[0m eta \u001b[36m0:00:00\u001b[0m\n",
      "\u001b[2K   \u001b[90m━━━━━━━━━━━━━━━━━━━━━━━━━━━━━━━━━━━━━━━━\u001b[0m \u001b[32m444.0/444.0 kB\u001b[0m \u001b[31m29.2 MB/s\u001b[0m eta \u001b[36m0:00:00\u001b[0m\n",
      "\u001b[2K   \u001b[90m━━━━━━━━━━━━━━━━━━━━━━━━━━━━━━━━━━━━━━━━\u001b[0m \u001b[32m64.7/64.7 kB\u001b[0m \u001b[31m4.3 MB/s\u001b[0m eta \u001b[36m0:00:00\u001b[0m\n",
      "\u001b[2K   \u001b[90m━━━━━━━━━━━━━━━━━━━━━━━━━━━━━━━━━━━━━━━━\u001b[0m \u001b[32m50.9/50.9 kB\u001b[0m \u001b[31m3.3 MB/s\u001b[0m eta \u001b[36m0:00:00\u001b[0m\n",
      "\u001b[?25h\u001b[31mERROR: pip's dependency resolver does not currently take into account all the packages that are installed. This behaviour is the source of the following dependency conflicts.\n",
      "google-colab 1.0.0 requires requests==2.32.4, but you have requests 2.32.5 which is incompatible.\u001b[0m\u001b[31m\n",
      "\u001b[2K   \u001b[90m━━━━━━━━━━━━━━━━━━━━━━━━━━━━━━━━━━━━━━━━\u001b[0m \u001b[32m1.6/1.6 MB\u001b[0m \u001b[31m41.2 MB/s\u001b[0m eta \u001b[36m0:00:00\u001b[0m\n",
      "\u001b[?25h"
     ]
    }
   ],
   "source": [
    "%pip install langchain openai transformers --quiet\n",
    "%pip install -U langchain-openai --quiet\n",
    "%pip install torch torchvision torchaudio --quiet\n",
    "%pip install -U langchain-community --quiet\n",
    "%pip install ipywidgets --quiet"
   ]
  },
  {
   "cell_type": "code",
   "execution_count": null,
   "metadata": {
    "colab": {
     "base_uri": "https://localhost:8080/"
    },
    "executionInfo": {
     "elapsed": 19581,
     "status": "ok",
     "timestamp": 1756481808192,
     "user": {
      "displayName": "S Li",
      "userId": "16183130557533314590"
     },
     "user_tz": -60
    },
    "id": "gtVz5_eM_k6l",
    "outputId": "6fc5141e-0d62-4ef2-f4c0-aac9d6fadc21"
   },
   "outputs": [
    {
     "name": "stdout",
     "output_type": "stream",
     "text": [
      "\u001b[?25l     \u001b[90m━━━━━━━━━━━━━━━━━━━━━━━━━━━━━━━━━━━━━━━━\u001b[0m \u001b[32m0.0/67.3 kB\u001b[0m \u001b[31m?\u001b[0m eta \u001b[36m-:--:--\u001b[0m\r",
      "\u001b[2K     \u001b[90m━━━━━━━━━━━━━━━━━━━━━━━━━━━━━━━━━━━━━━━━\u001b[0m \u001b[32m67.3/67.3 kB\u001b[0m \u001b[31m3.4 MB/s\u001b[0m eta \u001b[36m0:00:00\u001b[0m\n",
      "\u001b[?25h  Installing build dependencies ... \u001b[?25l\u001b[?25hdone\n",
      "  Getting requirements to build wheel ... \u001b[?25l\u001b[?25hdone\n",
      "  Preparing metadata (pyproject.toml) ... \u001b[?25l\u001b[?25hdone\n",
      "\u001b[2K   \u001b[90m━━━━━━━━━━━━━━━━━━━━━━━━━━━━━━━━━━━━━━━━\u001b[0m \u001b[32m19.8/19.8 MB\u001b[0m \u001b[31m82.5 MB/s\u001b[0m eta \u001b[36m0:00:00\u001b[0m\n",
      "\u001b[2K   \u001b[90m━━━━━━━━━━━━━━━━━━━━━━━━━━━━━━━━━━━━━━━━\u001b[0m \u001b[32m284.2/284.2 kB\u001b[0m \u001b[31m20.2 MB/s\u001b[0m eta \u001b[36m0:00:00\u001b[0m\n",
      "\u001b[2K   \u001b[90m━━━━━━━━━━━━━━━━━━━━━━━━━━━━━━━━━━━━━━━━\u001b[0m \u001b[32m1.9/1.9 MB\u001b[0m \u001b[31m74.1 MB/s\u001b[0m eta \u001b[36m0:00:00\u001b[0m\n",
      "\u001b[2K   \u001b[90m━━━━━━━━━━━━━━━━━━━━━━━━━━━━━━━━━━━━━━━━\u001b[0m \u001b[32m103.3/103.3 kB\u001b[0m \u001b[31m7.1 MB/s\u001b[0m eta \u001b[36m0:00:00\u001b[0m\n",
      "\u001b[2K   \u001b[90m━━━━━━━━━━━━━━━━━━━━━━━━━━━━━━━━━━━━━━━━\u001b[0m \u001b[32m16.5/16.5 MB\u001b[0m \u001b[31m106.4 MB/s\u001b[0m eta \u001b[36m0:00:00\u001b[0m\n",
      "\u001b[2K   \u001b[90m━━━━━━━━━━━━━━━━━━━━━━━━━━━━━━━━━━━━━━━━\u001b[0m \u001b[32m72.5/72.5 kB\u001b[0m \u001b[31m5.9 MB/s\u001b[0m eta \u001b[36m0:00:00\u001b[0m\n",
      "\u001b[2K   \u001b[90m━━━━━━━━━━━━━━━━━━━━━━━━━━━━━━━━━━━━━━━━\u001b[0m \u001b[32m105.4/105.4 kB\u001b[0m \u001b[31m8.5 MB/s\u001b[0m eta \u001b[36m0:00:00\u001b[0m\n",
      "\u001b[2K   \u001b[90m━━━━━━━━━━━━━━━━━━━━━━━━━━━━━━━━━━━━━━━━\u001b[0m \u001b[32m71.6/71.6 kB\u001b[0m \u001b[31m5.2 MB/s\u001b[0m eta \u001b[36m0:00:00\u001b[0m\n",
      "\u001b[2K   \u001b[90m━━━━━━━━━━━━━━━━━━━━━━━━━━━━━━━━━━━━━━━━\u001b[0m \u001b[32m510.8/510.8 kB\u001b[0m \u001b[31m33.5 MB/s\u001b[0m eta \u001b[36m0:00:00\u001b[0m\n",
      "\u001b[2K   \u001b[90m━━━━━━━━━━━━━━━━━━━━━━━━━━━━━━━━━━━━━━━━\u001b[0m \u001b[32m4.7/4.7 MB\u001b[0m \u001b[31m117.6 MB/s\u001b[0m eta \u001b[36m0:00:00\u001b[0m\n",
      "\u001b[2K   \u001b[90m━━━━━━━━━━━━━━━━━━━━━━━━━━━━━━━━━━━━━━━━\u001b[0m \u001b[32m452.2/452.2 kB\u001b[0m \u001b[31m35.7 MB/s\u001b[0m eta \u001b[36m0:00:00\u001b[0m\n",
      "\u001b[2K   \u001b[90m━━━━━━━━━━━━━━━━━━━━━━━━━━━━━━━━━━━━━━━━\u001b[0m \u001b[32m46.0/46.0 kB\u001b[0m \u001b[31m3.1 MB/s\u001b[0m eta \u001b[36m0:00:00\u001b[0m\n",
      "\u001b[2K   \u001b[90m━━━━━━━━━━━━━━━━━━━━━━━━━━━━━━━━━━━━━━━━\u001b[0m \u001b[32m86.8/86.8 kB\u001b[0m \u001b[31m5.8 MB/s\u001b[0m eta \u001b[36m0:00:00\u001b[0m\n",
      "\u001b[?25h  Building wheel for pypika (pyproject.toml) ... \u001b[?25l\u001b[?25hdone\n",
      "\u001b[2K   \u001b[90m━━━━━━━━━━━━━━━━━━━━━━━━━━━━━━━━━━━━━━━━\u001b[0m \u001b[32m1.5/1.5 MB\u001b[0m \u001b[31m42.4 MB/s\u001b[0m eta \u001b[36m0:00:00\u001b[0m\n",
      "\u001b[2K   \u001b[90m━━━━━━━━━━━━━━━━━━━━━━━━━━━━━━━━━━━━━━━━\u001b[0m \u001b[32m44.8/44.8 kB\u001b[0m \u001b[31m2.7 MB/s\u001b[0m eta \u001b[36m0:00:00\u001b[0m\n",
      "\u001b[?25h"
     ]
    }
   ],
   "source": [
    "!pip install chromadb --quiet\n",
    "!pip install open_clip_torch --quiet"
   ]
  },
  {
   "cell_type": "code",
   "execution_count": null,
   "metadata": {
    "id": "pVp05WFo-24O"
   },
   "outputs": [],
   "source": [
    "import numpy as np\n",
    "import re\n",
    "import random\n",
    "import os\n",
    "import pandas as pd\n",
    "from PIL import Image as PILImage\n",
    "from PIL import Image, ImageEnhance, ImageFilter\n",
    "from transformers import CLIPProcessor, CLIPModel\n",
    "import torch\n",
    "from langchain.agents import initialize_agent\n",
    "from langchain_openai import ChatOpenAI\n",
    "from langchain.tools import BaseTool\n",
    "import chromadb\n",
    "import base64\n",
    "from chromadb.utils.embedding_functions import OpenCLIPEmbeddingFunction\n",
    "from chromadb.utils.data_loaders import ImageLoader\n",
    "from langchain_core.prompts import ChatPromptTemplate\n",
    "from langchain_core.output_parsers import StrOutputParser\n",
    "import matplotlib.pyplot as plt\n",
    "import matplotlib.image as mpimg"
   ]
  },
  {
   "cell_type": "markdown",
   "metadata": {
    "id": "FuXtKOza1Lib"
   },
   "source": [
    "## Indexing"
   ]
  },
  {
   "cell_type": "markdown",
   "metadata": {
    "id": "18iD8Vil1a3t"
   },
   "source": [
    "### set up the packages"
   ]
  },
  {
   "cell_type": "code",
   "execution_count": null,
   "metadata": {
    "id": "otOd81xl-24O"
   },
   "outputs": [],
   "source": [
    "# Set the OpenAI API key\n",
    "os.environ[\"OPENAI_API_KEY\"] = \"your_api_key_here\" # put in your own API key here\n",
    "\n",
    "# Initialise ChatGPT\n",
    "# different models available\n",
    "gpt4o = ChatOpenAI(temperature=0, model_name=\"gpt-4o\")\n",
    "gpt35 = ChatOpenAI(model=\"gpt-3.5-turbo\")\n",
    "gpt4om = ChatOpenAI(temperature=0, model_name=\"gpt-4o-mini\")\n",
    "\n",
    "llm = gpt4o\n"
   ]
  },
  {
   "cell_type": "code",
   "execution_count": null,
   "metadata": {
    "colab": {
     "base_uri": "https://localhost:8080/",
     "height": 419,
     "referenced_widgets": [
      "c1bc7d13e7464fa8b22770ce47e36cb3",
      "ddaeeaf8817b48898de1662c0cc7fc09",
      "0a32a32cb3574e94aac05b57bea5ef21",
      "e2c6a5ac4be043bdb721db97e0de001f",
      "1d6ae6902c5e4017ba8ee5fb5685cf9a",
      "30e15fbd03f74869942e0f074c314135",
      "d65a620097524ec0962bfcd027faa709",
      "9f775bb08ad044c28de4918218afad4c",
      "0b3c9fb09e4a40859a9412641e94a754",
      "985d39b78f684173ba8a5f97c7beb328",
      "3db8a3228eaf4d81882c808769d7c4c8",
      "2ce641f227b54a73917a4fe4de563358",
      "7b2f74fb213b43dfb431c6e8ea9003d1",
      "0f1b7cb24e3b4ddbb017c25d3f42b43c",
      "441b112c737943258d5950730726a078",
      "9a86155073f54d038bc3404f6441bfab",
      "684ab82959d44598bb6e470728adf114",
      "e2837ec9812b432998b3c8777d5c9331",
      "af3fd70a8daa43fda007a3889db0519d",
      "7acbb2e3980246d681cc679c0234cbbe",
      "00e6f474f35d42238ba34a132e38e755",
      "bc1de9cfc0844d1e8781efdb43c3075c",
      "6ff4e4f4362c4688be5b8ee362bdcc94",
      "a4f988d9bbe64d9aa7d2dcc346386b29",
      "09ed5c1dcfbd49b3bce2379cb8743d6a",
      "a53cbcc9087e4758b11df8287d8a6d60",
      "8bc1b7a90ec74a0890adc77c7d2d63b0",
      "dbb9c4ae1ce245558a83b025bd947a44",
      "9e5a8cd72dab4c6ca642309592aa6f59",
      "d1adf5632e1849cd82833f9d0e400984",
      "a5243bdadfc24a7bad8fe3f275b051bf",
      "41eda8e3ed0b4036b9f2f42e30e94f21",
      "666af3c31dc242bb90c375ea6b22482b",
      "08fc62941b2b45078b1d4c013f7974cf",
      "262fa2e3863446c5b4b10e5cd3e5c4e0",
      "8b4023bb2b3643c8a0f0f1f16eb62b7a",
      "f44591af6ac2430cb9b679ecfdcb85af",
      "f4523b2b97a349338c197d2e9aefb678",
      "e111af525e3644e5a00270681d5a2e46",
      "4ae1c33587e04dc8b761a88c549dafae",
      "b3766e0e1e7b4a30a29d4ddd6e77872e",
      "789859f970334e9d82f049c14dbc2818",
      "2216ce77f7254185a0a1b8c6360856fe",
      "4de1b0787f6b4e38874ffb3cd7691d10",
      "ffcb83a3035a4000bc4d9e7f679920cb",
      "66de8adc80214c82b965d034212f2a9a",
      "dcf0c181a1fd4959a270515506f9419c",
      "58bded746fbc461ba6cb439d26b09ae6",
      "f8c752ca949049e3be957bf532835385",
      "a182ca4d3c39422195d433beda6024ac",
      "9285a9276b254ca7839e438dda89524e",
      "ebb150a24a1e4cc4b47cf9801d69a9a8",
      "624b650e140b4d1e9ace09f6f80c8ced",
      "bd0bb544c97045cb97cdcad01a2bdc60",
      "1ab4e71ee0c74340ad52a37b3eb950fe",
      "9c8f0d024d9542efbdf3d56580bf544e",
      "0c14eb49de6a4f49a8edfc040a865ca2",
      "a36763419a254572898b2cf64208206f",
      "0c13fabd2e3040788febebb472adcd12",
      "dcf0f93982a5499dad69d5d94f758a58",
      "f9303d144f2a47ac83ca785e914f9ac3",
      "b37720837b08439c909c02eb28871f8c",
      "bebd98f91c7f4a949409479e99719c16",
      "91811b7a781a4ab580bc1ab5abb42346",
      "bb66a5f52e36402b8001dd7fbd83f052",
      "76b37423dcd04f23b89440aebd66af0d",
      "fb4dfe41b9cf4a9993f0eb7afd08f746",
      "6879ac1d8b60435a85eb4d14b39b6dbd",
      "36d7ab1bba124c93b47608f8fd3dbbdc",
      "297dab67811d4b56b0520db14c67a091",
      "617c97a7165e4fa48e03aa08f4ba8d9a",
      "07f5db19267c46cd965e2f9165ad20b2",
      "3897e24c601548e59f5e33cca9f6a41c",
      "30781469e00c44fc92c7ff12fb2cdf74",
      "e5d512682ba9479489a3b0918de9616b",
      "baea14e7f1354a9e8f02ce87e2217d81",
      "618f0b6a8ac945c19544d6b2e9aca227",
      "8fa177fe6c8c44aa960f7270dc919323",
      "cdc3434ab9044b538e9b805cff881b0c",
      "7435402a55c54bff92dbce2ad5156f56",
      "b7a6a1ea7352466eb750caba7d6f31ca",
      "d92b68af23fd43edb7bab66949b4af9f",
      "4425215be0db473598e383c0b4fa4377",
      "45042887dc5d4cbbbd6299fc20ddd7b9",
      "8e8cf45a8aa946f088773172914c0442",
      "1834d38b1d444be7b8f4f5917a9a9a24",
      "938b2c9770e44f13a942ee236cb73e1d",
      "93cf2f848c5445fb85e4cb550d4cff0c"
     ]
    },
    "executionInfo": {
     "elapsed": 6599,
     "status": "ok",
     "timestamp": 1756481870162,
     "user": {
      "displayName": "S Li",
      "userId": "16183130557533314590"
     },
     "user_tz": -60
    },
    "id": "3bpELyA5GiTK",
    "outputId": "96a0f88c-9aa9-4f3c-b0c4-3b3c8590f9f2"
   },
   "outputs": [
    {
     "name": "stderr",
     "output_type": "stream",
     "text": [
      "Using a slow image processor as `use_fast` is unset and a slow processor was saved with this model. `use_fast=True` will be the default behavior in v4.52, even if the model was saved with a slow processor. This will result in minor differences in outputs. You'll still be able to use a slow processor with `use_fast=False`.\n",
      "/usr/local/lib/python3.12/dist-packages/huggingface_hub/utils/_auth.py:94: UserWarning: \n",
      "The secret `HF_TOKEN` does not exist in your Colab secrets.\n",
      "To authenticate with the Hugging Face Hub, create a token in your settings tab (https://huggingface.co/settings/tokens), set it as secret in your Google Colab and restart your session.\n",
      "You will be able to reuse this secret in all of your notebooks.\n",
      "Please note that authentication is recommended but still optional to access public models or datasets.\n",
      "  warnings.warn(\n"
     ]
    },
    {
     "data": {
      "application/vnd.jupyter.widget-view+json": {
       "model_id": "c1bc7d13e7464fa8b22770ce47e36cb3",
       "version_major": 2,
       "version_minor": 0
      },
      "text/plain": [
       "preprocessor_config.json:   0%|          | 0.00/316 [00:00<?, ?B/s]"
      ]
     },
     "metadata": {},
     "output_type": "display_data"
    },
    {
     "data": {
      "application/vnd.jupyter.widget-view+json": {
       "model_id": "2ce641f227b54a73917a4fe4de563358",
       "version_major": 2,
       "version_minor": 0
      },
      "text/plain": [
       "tokenizer_config.json:   0%|          | 0.00/592 [00:00<?, ?B/s]"
      ]
     },
     "metadata": {},
     "output_type": "display_data"
    },
    {
     "data": {
      "application/vnd.jupyter.widget-view+json": {
       "model_id": "6ff4e4f4362c4688be5b8ee362bdcc94",
       "version_major": 2,
       "version_minor": 0
      },
      "text/plain": [
       "vocab.json: 0.00B [00:00, ?B/s]"
      ]
     },
     "metadata": {},
     "output_type": "display_data"
    },
    {
     "data": {
      "application/vnd.jupyter.widget-view+json": {
       "model_id": "08fc62941b2b45078b1d4c013f7974cf",
       "version_major": 2,
       "version_minor": 0
      },
      "text/plain": [
       "merges.txt: 0.00B [00:00, ?B/s]"
      ]
     },
     "metadata": {},
     "output_type": "display_data"
    },
    {
     "data": {
      "application/vnd.jupyter.widget-view+json": {
       "model_id": "ffcb83a3035a4000bc4d9e7f679920cb",
       "version_major": 2,
       "version_minor": 0
      },
      "text/plain": [
       "tokenizer.json: 0.00B [00:00, ?B/s]"
      ]
     },
     "metadata": {},
     "output_type": "display_data"
    },
    {
     "data": {
      "application/vnd.jupyter.widget-view+json": {
       "model_id": "9c8f0d024d9542efbdf3d56580bf544e",
       "version_major": 2,
       "version_minor": 0
      },
      "text/plain": [
       "special_tokens_map.json:   0%|          | 0.00/389 [00:00<?, ?B/s]"
      ]
     },
     "metadata": {},
     "output_type": "display_data"
    },
    {
     "data": {
      "application/vnd.jupyter.widget-view+json": {
       "model_id": "fb4dfe41b9cf4a9993f0eb7afd08f746",
       "version_major": 2,
       "version_minor": 0
      },
      "text/plain": [
       "config.json: 0.00B [00:00, ?B/s]"
      ]
     },
     "metadata": {},
     "output_type": "display_data"
    },
    {
     "data": {
      "application/vnd.jupyter.widget-view+json": {
       "model_id": "8fa177fe6c8c44aa960f7270dc919323",
       "version_major": 2,
       "version_minor": 0
      },
      "text/plain": [
       "pytorch_model.bin:   0%|          | 0.00/605M [00:00<?, ?B/s]"
      ]
     },
     "metadata": {},
     "output_type": "display_data"
    }
   ],
   "source": [
    "# Initialise CLIP model and processor\n",
    "clip_model_name = \"openai/clip-vit-base-patch32\"\n",
    "clip_processor = CLIPProcessor.from_pretrained(clip_model_name)\n",
    "clip_model = CLIPModel.from_pretrained(clip_model_name)"
   ]
  },
  {
   "cell_type": "code",
   "execution_count": null,
   "metadata": {
    "colab": {
     "base_uri": "https://localhost:8080/",
     "height": 49,
     "referenced_widgets": [
      "b9dc5e836a644ac3a7c1587b9a504d5e",
      "4ca07c56e44547a1b5fa9ff0d59253aa",
      "dd5350c77ab043d28dc3a915d34db266",
      "73fe87c2d299447d9d96fb0293398d02",
      "ae73c51e51ee4445b6e6971eafa7ed46",
      "b9fb978335224aa1844dd6a911b95657",
      "21fa5d8c1ef5493b92a6014203e55918",
      "f33b05f4b8be477a8ccbca7d0916856d",
      "8326e5535d4e4892812a81fdd58519fa",
      "f2c67455f1d24c19961f49ca79025a01",
      "64dce94cdffc4268800d303676f99868"
     ]
    },
    "executionInfo": {
     "elapsed": 21002,
     "status": "ok",
     "timestamp": 1756481892024,
     "user": {
      "displayName": "S Li",
      "userId": "16183130557533314590"
     },
     "user_tz": -60
    },
    "id": "nt8hq2GLCO2L",
    "outputId": "05f48405-b8e4-4c28-f28a-840ef5d45eb6"
   },
   "outputs": [
    {
     "data": {
      "application/vnd.jupyter.widget-view+json": {
       "model_id": "b9dc5e836a644ac3a7c1587b9a504d5e",
       "version_major": 2,
       "version_minor": 0
      },
      "text/plain": [
       "open_clip_model.safetensors:   0%|          | 0.00/605M [00:00<?, ?B/s]"
      ]
     },
     "metadata": {},
     "output_type": "display_data"
    }
   ],
   "source": [
    "# Initialise the ChromaDB client\n",
    "chroma_client = chromadb.PersistentClient(path=\"/path/to/your/folder\") # put in your current working directory\n",
    "\n",
    "# Initialise ChromaDB Image Loader\n",
    "image_loader = ImageLoader()\n",
    "image_loader._PILImage = PILImage\n",
    "\n",
    "# Initialize CLIP embedding\n",
    "CLIP = OpenCLIPEmbeddingFunction()\n",
    "\n",
    "# Create a database of image vectors\n",
    "image_vdb = chroma_client.get_or_create_collection(name=\"image\", embedding_function=CLIP, data_loader=image_loader)"
   ]
  },
  {
   "cell_type": "code",
   "execution_count": null,
   "metadata": {
    "id": "AwueP8vsmrQI"
   },
   "outputs": [],
   "source": [
    "# Image Preprocessing Functions: to increse the visibility/quality of the images\n",
    "def preprocess_image(image_path):\n",
    "    image = PILImage.open(image_path).convert('RGB')\n",
    "\n",
    "    # Resizing images\n",
    "    image = image.resize((224, 224))\n",
    "\n",
    "    # Enhanced contrast\n",
    "    enhancer = ImageEnhance.Contrast(image)\n",
    "    image = enhancer.enhance(2)\n",
    "\n",
    "    # Denoising\n",
    "    image = image.filter(ImageFilter.MedianFilter(size=3))\n",
    "\n",
    "    return image"
   ]
  },
  {
   "cell_type": "code",
   "execution_count": null,
   "metadata": {
    "id": "5Y_uVErrmvIV"
   },
   "outputs": [],
   "source": [
    "# Clear the vector database and recreate the collection.\n",
    "def clear_vdb():\n",
    "    # Delete the existing collection\n",
    "    chroma_client.delete_collection(name=\"image\")\n",
    "\n",
    "    # Recreate the collection\n",
    "    global image_vdb\n",
    "    image_vdb = chroma_client.get_or_create_collection(\n",
    "        name=\"image\",\n",
    "        embedding_function=CLIP,\n",
    "        data_loader=image_loader\n",
    "    )\n",
    "\n",
    "    return"
   ]
  },
  {
   "cell_type": "markdown",
   "metadata": {
    "id": "T_0Oe1D6zAYK"
   },
   "source": [
    "### set up the dataset\n",
    "\n"
   ]
  },
  {
   "cell_type": "code",
   "execution_count": null,
   "metadata": {
    "id": "NXV_iZJOzQNW"
   },
   "outputs": [],
   "source": [
    "# create splits of the whole dataset\n",
    "# the portion of the whole dataset is used as the variable\n",
    "random_seed = 42\n",
    "random.seed(random_seed)\n",
    "\n",
    "dataset_path = r'/path/to/your/dataset' # put in your local path to the dataset\n",
    "paths_dict = {}\n",
    "\n",
    "# Walk through the directory and its subdirectories\n",
    "for dirpath, _, filenames in os.walk(dataset_path):\n",
    "    # Get the name of the subdirectory (last part of the path)\n",
    "    subdir_name = os.path.basename(dirpath)\n",
    "\n",
    "    # Collect all file paths in the current subdirectory\n",
    "    file_paths = [os.path.join(dirpath, filename) for filename in filenames]\n",
    "\n",
    "    # Add to dictionary if there are files in the subdirectory\n",
    "    if file_paths:\n",
    "        paths_dict[subdir_name] = file_paths\n",
    "\n",
    "# List of dictionaries to store each split\n",
    "split_dictionaries = [{} for _ in range(10)]\n",
    "\n",
    "# Split each subdirectory's paths into 10 parts and save into 10 dictionaries\n",
    "for subdir, paths in paths_dict.items():\n",
    "    # Shuffle paths to ensure randomness\n",
    "    random.shuffle(paths)\n",
    "\n",
    "    # Calculate split size\n",
    "    split_size = max(1, len(paths) // 10)  # Ensure each split gets at least one path\n",
    "\n",
    "    # Split paths into 10 parts\n",
    "    splits = [paths[i * split_size:(i + 1) * split_size] for i in range(10)]\n",
    "\n",
    "    # Add each split to the corresponding dictionary\n",
    "    for i, split in enumerate(splits):\n",
    "        split_dictionaries[i][subdir] = split"
   ]
  },
  {
   "cell_type": "markdown",
   "metadata": {
    "id": "Ry1r8niTY3Bk"
   },
   "source": [
    "### index and save functions"
   ]
  },
  {
   "cell_type": "code",
   "execution_count": null,
   "metadata": {
    "id": "LbkgfJNEUX4E"
   },
   "outputs": [],
   "source": [
    "# extract features\n",
    "def extract_all_features(image_path, text):\n",
    "    # Pre-processed images\n",
    "    image_object = preprocess_image(image_path)\n",
    "\n",
    "    # Image feature extraction using CLIP model\n",
    "    clip_image_inputs = clip_processor(images=image_object, return_tensors=\"pt\")\n",
    "    clip_text_inputs = clip_processor(text=[text], return_tensors=\"pt\")\n",
    "\n",
    "    with torch.no_grad():\n",
    "        clip_image_outputs = clip_model.get_image_features(**clip_image_inputs)\n",
    "        clip_text_outputs = clip_model.get_text_features(**clip_text_inputs)\n",
    "\n",
    "    # Normalize the features to have unit norm\n",
    "    clip_image_outputs = torch.nn.functional.normalize(clip_image_outputs, p=2, dim=-1)\n",
    "    clip_text_outputs = torch.nn.functional.normalize(clip_text_outputs, p=2, dim=-1)\n",
    "\n",
    "    # Combine image and text features\n",
    "    combined_features = (clip_image_outputs + clip_text_outputs) / 2\n",
    "\n",
    "    # Spreading feature vectors into a one-dimensional list\n",
    "    #image_features = combined_features.flatten().tolist()\n",
    "    image_embedding = clip_image_outputs.flatten().tolist()\n",
    "    text_embedding = clip_text_outputs.flatten().tolist()\n",
    "    combined_feature = combined_features.flatten().tolist()\n",
    "    return image_embedding, text_embedding, combined_feature\n",
    "\n",
    "\n",
    "\n",
    "# extract features and save them locally\n",
    "def extract_and_save_locally(save_path, directory_paths, max_images_per_folder):\n",
    "    ids = []\n",
    "    uris = []\n",
    "    embeddings = []\n",
    "    image_embeddings = []\n",
    "    text_embeddings = []\n",
    "    global_id = 0\n",
    "\n",
    "    for directory_path in directory_paths:\n",
    "        images_processed = 0\n",
    "        # Iterate through files in the directory\n",
    "        for filename in sorted(os.listdir(directory_path)):\n",
    "            if filename.lower().endswith('.jpg'):\n",
    "                if re.search(r'\\(\\d+\\)', filename):\n",
    "                    continue\n",
    "\n",
    "                file_path = os.path.join(directory_path, filename)\n",
    "                text = os.path.basename(os.path.dirname(file_path))\n",
    "                print(f\"Extracted text for {file_path}: {text}\")\n",
    "                #image_features = extract_image_features(file_path, text)\n",
    "                image_feature, text_feature, combined_feature = extract_all_features(file_path, text)\n",
    "\n",
    "                # Append image information to respective lists\n",
    "                ids.append(str(global_id))\n",
    "                uris.append(file_path)\n",
    "                embeddings.append(combined_feature)\n",
    "                image_embeddings.append(image_feature)\n",
    "                text_embeddings.append(text_feature)\n",
    "                global_id += 1\n",
    "                images_processed += 1\n",
    "\n",
    "                # Stop processing if max images per folder limit is reached\n",
    "                if images_processed >= max_images_per_folder:\n",
    "                    break\n",
    "\n",
    "    np.savez(save_path, ids = ids, uris = uris, embeddings = embeddings, image_embeddings = image_embeddings, text_embeddings = text_embeddings)\n",
    "\n",
    "    return\n",
    "\n",
    "\n",
    "\n",
    "# extract features and save them locally\n",
    "def extract_and_save_locally_withsplit(save_path, directory_paths):\n",
    "    ids = []\n",
    "    uris = []\n",
    "    embeddings = []\n",
    "    image_embeddings = []\n",
    "    text_embeddings = []\n",
    "    global_id = 0\n",
    "\n",
    "    for key in directory_paths.keys():\n",
    "        for file_path in directory_paths[key]:\n",
    "            text = os.path.basename(os.path.dirname(file_path))\n",
    "            print(f\"Extracted text for {file_path}: {text}\")\n",
    "            #image_features = extract_image_features(file_path, text)\n",
    "            image_feature, text_feature, combined_feature = extract_all_features(file_path, text)\n",
    "\n",
    "            # Append image information to respective lists\n",
    "            ids.append(str(global_id))\n",
    "            uris.append(file_path)\n",
    "            embeddings.append(combined_feature)\n",
    "            image_embeddings.append(image_feature)\n",
    "            text_embeddings.append(text_feature)\n",
    "            global_id += 1\n",
    "            #images_processed += 1\n",
    "\n",
    "    np.savez(save_path, ids = ids, uris = uris, embeddings = embeddings, image_embeddings = image_embeddings, text_embeddings = text_embeddings)\n",
    "\n",
    "    return"
   ]
  },
  {
   "cell_type": "markdown",
   "metadata": {
    "id": "_3ejB7c_IugR"
   },
   "source": [
    "### *extract and save locally"
   ]
  },
  {
   "cell_type": "markdown",
   "metadata": {
    "id": "8dW9d86EClqA"
   },
   "source": [
    "#### execution with splits"
   ]
  },
  {
   "cell_type": "code",
   "execution_count": null,
   "metadata": {
    "id": "LANCqJudxh2F"
   },
   "outputs": [],
   "source": [
    "# use splits of the whole dataset\n",
    "\n",
    "\n",
    "no_part_per_class = '10%'\n",
    "\n",
    "path1 = '/path/to/save/datasets' # put in the directory where you want to save the extracted features\n",
    "exp_name = f'vectorstore_{no_part_per_class}perClass'\n",
    "npz_name = '.npz'\n",
    "save_path = os.path.join(path1, exp_name + npz_name)\n",
    "\n",
    "\n",
    "### 1st time: extract features and save locally for the first time of using this dataset\n",
    "extract_and_save_locally_withsplit(save_path, split_dictionaries[0])"
   ]
  },
  {
   "cell_type": "markdown",
   "metadata": {
    "id": "AnweMx_G1fbp"
   },
   "source": [
    "### construct the vectorstore"
   ]
  },
  {
   "cell_type": "code",
   "execution_count": null,
   "metadata": {
    "id": "mYHRdC_Uood2"
   },
   "outputs": [],
   "source": [
    "# Add images from specified directories to the vector database.\n",
    "def add_images_to_vdb3(feature_path, feature_used = 'embeddings'):\n",
    "    \"\"\"\n",
    "    this function is created to make the type of features used in vectorstore a variable\n",
    "    \"\"\"\n",
    "\n",
    "    data = np.load(feature_path)\n",
    "    ids = data['ids'].tolist()\n",
    "    uris = data['uris'].tolist()\n",
    "    if feature_used == 'embeddings':\n",
    "        embeddings = data['embeddings']\n",
    "    elif feature_used == 'image_embeddings':\n",
    "        embeddings = data['image_embeddings']\n",
    "    elif feature_used == 'text_embeddings':\n",
    "        embeddings = data['text_embeddings']\n",
    "\n",
    "    print(len(ids))\n",
    "    print(len(uris))\n",
    "    print(len(embeddings))\n",
    "\n",
    "\n",
    "    # Add all images to the database at once\n",
    "    if len(ids)!= 0:\n",
    "        image_vdb.add(ids=ids, uris=uris, embeddings=embeddings)\n",
    "        print(f\"Added {len(ids)} images to the database.\")\n",
    "\n",
    "    return\n"
   ]
  },
  {
   "cell_type": "markdown",
   "metadata": {
    "id": "ce2X7LCdC0_X"
   },
   "source": [
    "#### execution with splits"
   ]
  },
  {
   "cell_type": "code",
   "execution_count": null,
   "metadata": {
    "colab": {
     "base_uri": "https://localhost:8080/"
    },
    "executionInfo": {
     "elapsed": 7341,
     "status": "ok",
     "timestamp": 1756482111224,
     "user": {
      "displayName": "S Li",
      "userId": "16183130557533314590"
     },
     "user_tz": -60
    },
    "id": "yhL5mlEkAuyC",
    "outputId": "2ea02e9a-bec8-4ba4-c8a6-26f892d80198"
   },
   "outputs": [
    {
     "name": "stdout",
     "output_type": "stream",
     "text": [
      "4337\n",
      "4337\n",
      "4337\n",
      "Added 4337 images to the database.\n",
      "Image count in VDB: 4337\n"
     ]
    }
   ],
   "source": [
    "# use splits of the whole dataset\n",
    "\n",
    "exp_no_part_per_class = '10%'\n",
    "path1 = '/path/to/the/saved/datasets' # put in the path to the saved features\n",
    "exp_name = f'vectorstore_{exp_no_part_per_class}perClass'\n",
    "npz_name = '.npz'\n",
    "feature_path = os.path.join(path1, exp_name + npz_name)\n",
    "\n",
    "\n",
    "# Clear the vector database before adding new images\n",
    "clear_vdb()\n",
    "\n",
    "# collect the extracted features from google drive and construct the vectorstore\n",
    "add_images_to_vdb3(feature_path, feature_used = 'image_embeddings')\n",
    "\n",
    "\n",
    "# Print the total count of images in the vector database\n",
    "print(\"Image count in VDB:\", image_vdb.count())"
   ]
  },
  {
   "cell_type": "markdown",
   "metadata": {
    "id": "K60-SAuf1lzI"
   },
   "source": [
    "## Retrieval"
   ]
  },
  {
   "cell_type": "code",
   "execution_count": null,
   "metadata": {
    "id": "_MMCv5k0ewsF"
   },
   "outputs": [],
   "source": [
    "# extract features for the query, only image data, no text data\n",
    "def extract_query_features(image_path):\n",
    "    # Pre-processed images\n",
    "    image_object = preprocess_image(image_path)\n",
    "\n",
    "    # Image feature extraction using CLIP model\n",
    "    clip_image_inputs = clip_processor(images=image_object, return_tensors=\"pt\")\n",
    "\n",
    "    with torch.no_grad():\n",
    "        clip_image_outputs = clip_model.get_image_features(**clip_image_inputs)\n",
    "\n",
    "\n",
    "    # Normalize the features to have unit norm\n",
    "    clip_image_outputs = torch.nn.functional.normalize(clip_image_outputs, p=2, dim=-1)\n",
    "\n",
    "\n",
    "    image_embedding = clip_image_outputs.flatten().tolist()\n",
    "\n",
    "    return image_embedding"
   ]
  },
  {
   "cell_type": "code",
   "execution_count": null,
   "metadata": {
    "id": "25Awmk03Zogd"
   },
   "outputs": [],
   "source": [
    "# Retrieve the vector database for similar images.\n",
    "def query_db1(image_path, text, results=3, top_k=500):\n",
    "    # the top-k here is not useful\n",
    "    query_features = extract_query_features(image_path)\n",
    "    try:\n",
    "        all_results = image_vdb.query(\n",
    "\n",
    "            query_embeddings=[query_features],\n",
    "            n_results=image_vdb.count(),\n",
    "            include=['uris', 'distances']\n",
    "        )\n",
    "    except Exception as e:\n",
    "        print(f\"Error querying the database: {e}\")\n",
    "        return None\n",
    "\n",
    "    # Filter results\n",
    "    filtered_results = filter_results1(all_results, image_path, top_k=results)\n",
    "\n",
    "    return filtered_results\n",
    "\n",
    "\n",
    "# Filter and sort the retrieved results.\n",
    "def filter_results1(all_results, image_path, top_k):\n",
    "\n",
    "    # Combined query results\n",
    "    distances_and_uris_and_ids = list(zip(all_results['distances'][0], all_results['uris'][0], all_results['ids'][0]))\n",
    "\n",
    "    organised_results = [(dist, uri, id) for dist, uri, id in distances_and_uris_and_ids]\n",
    "\n",
    "\n",
    "    # Sort results\n",
    "    sorted_results = sorted(organised_results, key=lambda x: x[0])\n",
    "\n",
    "\n",
    "    # Select top_k results\n",
    "    final_results = sorted_results[:top_k]\n",
    "\n",
    "\n",
    "    # Separate results\n",
    "    sorted_distances = [dist for dist, _, _ in final_results]\n",
    "    sorted_uris = [uri for _, uri, _ in final_results]\n",
    "    sorted_ids = [id for _, _, id in final_results]\n",
    "\n",
    "\n",
    "    # return results\n",
    "    return {\n",
    "        'ids': [sorted_ids],\n",
    "        'uris': [sorted_uris],\n",
    "        'distances': [sorted_distances]\n",
    "    }"
   ]
  },
  {
   "cell_type": "markdown",
   "metadata": {
    "id": "m8pK1J-d4n5s"
   },
   "source": [
    "## Generation"
   ]
  },
  {
   "cell_type": "code",
   "execution_count": null,
   "metadata": {
    "id": "cmi7M1Uy5oY7"
   },
   "outputs": [],
   "source": [
    "# Define the image prompt template for CoT\n",
    "image_prompt = ChatPromptTemplate.from_messages([\n",
    "    (\"system\", \"\"\"You are a mechanical engineer with expertise in manufacturing processes.\n",
    "    You will be provided with an image of the target mechanical part,\n",
    "    along with images and manufacutring process descriptions of similar parts to the target part.\n",
    "    Your job is to use the images and manufacturing processes of the similar parts to describe the target part.\n",
    "    \"\"\"),\n",
    "\n",
    "    (\"user\", [\n",
    "        {\"type\": \"text\", \"text\": \"\"\"The tartget mechanical part is shown in the image.\"\"\"},\n",
    "        {\"type\": \"image_url\", \"image_url\": \"data:image/jpeg;base64,{image_query}\"},\n",
    "        {\"type\": \"text\", \"text\": \"\"\"There are images and manufacturing processes of similar mechanical parts to the target part.\"\"\"},\n",
    "        {\"type\": \"image_url\", \"image_url\": \"data:image/jpeg;base64,{retrieved_info_images_0}\"},\n",
    "        {\"type\": \"image_url\", \"image_url\": \"data:image/jpeg;base64,{retrieved_info_images_1}\"},\n",
    "        {\"type\": \"image_url\", \"image_url\": \"data:image/jpeg;base64,{retrieved_info_images_2}\"},\n",
    "        {\"type\": \"text\", \"text\": \"\"\"they are individually manufacuted with the processes of\"\"\"},\n",
    "        {\"type\": \"text\", \"text\": \"{retrieved_info_texts}\"},\n",
    "        {\"type\": \"text\", \"text\": \"\"\"Analyse the target part and the similar parts following the process:\n",
    "        1. Step 1: Visual inspection for every part:\n",
    "            a. Observe the shape in the image, focus on the geometric features.\n",
    "        2. Step 2: Manufacturing method analysis for every part:\n",
    "            a. Identify features that strongly indicate specific manufacutring methods.\n",
    "            b. Also list other manufacutring methods possiblely related to the part based on the observations.\n",
    "        3. Step 3: Comparison between the target part and the similar parts:\n",
    "            a. Compare the target part and the similar parts based on the outputs from Step 1 and Step 2.\n",
    "               If the target part and the similar parts are very alike, then the manufacturing process description of the target part should be\n",
    "               similar to the ones of the similar parts.\n",
    "               If the target part and the similar parts are not alike, then describe the manufacturing process of the target part independently.\n",
    "        4. Step 4: Summary of the conclusion:\n",
    "            a. If from the previous steps the target part is likely to be manufactured by a sheet metal/fabricated/forged/turned manufacturing process,\n",
    "               go ahead and output the conclusion.\n",
    "               If from the previous steps the target part is unlikely to be manufactured by a sheet metal/fabricated/forged/turned manufacturing process,\n",
    "               categorise it as being manufactured by other manufacturing processes and output the conclusion.\n",
    "\n",
    "        \"\"\"},\n",
    "        {\"type\": \"text\", \"text\": \"\"\"Respond with a concise answer stating the manufacutring process used to produce the target part\"\"\"},\n",
    "    ]),\n",
    "])\n",
    "\n",
    "\n",
    "\n",
    "\n",
    "# Define the image prompt template for 'hint for other'\n",
    "image_prompt1 = ChatPromptTemplate.from_messages([\n",
    "    (\"system\", \"\"\"You are a mechanical engineer with expertise in manufacturing processes.\n",
    "    You will be provided with an image of the target mechanical part,\n",
    "    along with images and manufacutring process descriptions of similar parts to the target part.\n",
    "    Your job is to use the images and manufacturing processes of the similar parts to describe the target part.\n",
    "    \"\"\"),\n",
    "\n",
    "    (\"user\", [\n",
    "        {\"type\": \"text\", \"text\": \"\"\"The tartget mechanical part is shown in the image.\"\"\"},\n",
    "        {\"type\": \"image_url\", \"image_url\": \"data:image/jpeg;base64,{image_query}\"},\n",
    "        {\"type\": \"text\", \"text\": \"\"\"There are images and manufacturing processes of similar mechanical parts to the target part.\"\"\"},\n",
    "        {\"type\": \"image_url\", \"image_url\": \"data:image/jpeg;base64,{retrieved_info_images_0}\"},\n",
    "        {\"type\": \"image_url\", \"image_url\": \"data:image/jpeg;base64,{retrieved_info_images_1}\"},\n",
    "        {\"type\": \"image_url\", \"image_url\": \"data:image/jpeg;base64,{retrieved_info_images_2}\"},\n",
    "        {\"type\": \"text\", \"text\": \"\"\"they are individually manufacuted with the processes of\"\"\"},\n",
    "        {\"type\": \"text\", \"text\": \"{retrieved_info_texts}\"},\n",
    "        {\"type\": \"text\", \"text\": \"\"\"Respond with a concise answer stating the manufacutring process used to produce the target part\"\"\"},\n",
    "        {\"type\": \"text\", \"text\": \"\"\"If from the previous steps the target part is likely to be manufactured by a sheet metal/fabricated/forged/turned manufacturing process, go ahead and output the conclusion.\n",
    "               If from the previous steps the target part is unlikely to be manufactured by a sheet metal/fabricated/forged/turned manufacturing process, categorise it as being manufactured by other manufacturing processes and output the conclusion.\"\"\"},\n",
    "\n",
    "    ]),\n",
    "])\n",
    "\n",
    "\n",
    "\n",
    "# prompt template for no RAG\n",
    "image_prompt2 = ChatPromptTemplate.from_messages([\n",
    "    (\"system\", \"\"\"You are a mechanical engineer with expertise in manufacturing processes.\n",
    "    You will be provided with an image of the target mechanical part,\n",
    "    Your job is to use the images and manufacturing processes of the similar parts to describe the target part.\n",
    "    \"\"\"),\n",
    "\n",
    "    (\"user\", [\n",
    "        {\"type\": \"text\", \"text\": \"\"\"The tartget mechanical part is shown in the image.\"\"\"},\n",
    "        {\"type\": \"image_url\", \"image_url\": \"data:image/jpeg;base64,{image_query}\"},\n",
    "\n",
    "    ]),\n",
    "])\n",
    "\n",
    "\n",
    "\n",
    "# Initialise the output parser\n",
    "parser = StrOutputParser()\n",
    "\n",
    "\n",
    "# Define the LangChain chain\n",
    "vision_chain = image_prompt | llm | parser\n",
    "vision_chain1 = image_prompt1 | llm | parser\n",
    "vision_chain2 = image_prompt2 | llm | parser"
   ]
  },
  {
   "cell_type": "code",
   "execution_count": null,
   "metadata": {
    "id": "38YRi4skmUrL"
   },
   "outputs": [],
   "source": [
    "# Format the inputs for the prompt template\n",
    "def format_prompt_inputs(data, user_query, query_path):\n",
    "    inputs = {}\n",
    "\n",
    "    with open(query_path, 'rb') as image_file:\n",
    "        image_query = image_file.read()\n",
    "    inputs['image_query'] = base64.b64encode(image_query).decode('utf-8')\n",
    "\n",
    "\n",
    "    # Extract and include retrieved text information\n",
    "    retrieved_texts = [os.path.basename(os.path.dirname(uri)) for uri in data['uris'][0]]\n",
    "    inputs['retrieved_info_texts'] = ', '.join(retrieved_texts)\n",
    "\n",
    "\n",
    "    # Coding retrieved images\n",
    "    for i, uri in enumerate(data['uris'][0][:3]):\n",
    "        with open(uri, 'rb') as image_file:\n",
    "            inputs[f'retrieved_info_images_{i}'] = base64.b64encode(image_file.read()).decode('utf-8')\n",
    "\n",
    "    # If fewer than 3 images are retrieved, fill with an empty string\n",
    "    for i in range(len(data['uris'][0]), 3):\n",
    "        inputs[f'retrieved_info_images_{i}'] = ''\n",
    "\n",
    "\n",
    "    return inputs\n",
    "\n",
    "\n",
    "\n",
    "# Generate a description of an image using RAG\n",
    "def generate_description_with_rag1(image_path, prompting=0):\n",
    "    try:\n",
    "        #text_info = os.path.basename(os.path.dirname(image_path))\n",
    "        text_fill = '' # not useful in the function, just a placefiller for consistencies of function callings\n",
    "        user_query = \"Analyze the mechanical component image with reference to similar components.\" # this uver query is actually not used in the prompt\n",
    "        results = query_db1(image_path, text_fill, results=3)\n",
    "        print(f\"Query part is: {os.path.basename(image_path)}\")\n",
    "        #print(f\"Query part is: {image_path}\")\n",
    "        #print(f\"Retrievals: {results}\")        # used to track files retrived\n",
    "\n",
    "        if results is None or len(results['uris'][0]) == 0:\n",
    "            print(f\"Warning: No results retrieved for {image_path}\")\n",
    "            return \"Unable to generate description due to lack of similar components.\"\n",
    "\n",
    "        prompt_input = format_prompt_inputs(results, user_query, image_path)\n",
    "\n",
    "        if prompting == 0: # CoT\n",
    "            response = vision_chain.invoke(prompt_input)\n",
    "        elif prompting == 1: # simple prompting\n",
    "            response = vision_chain1.invoke(prompt_input)\n",
    "        else:\n",
    "            response = vision_chain2.invoke(prompt_input)\n",
    "        #print(f\"Generations: {response}\")\n",
    "        print(\"------------------------------------------------------------\")\n",
    "        return response\n",
    "    except Exception as e:\n",
    "        print(f\"Error in generate_description_with_rag for {image_path}: {str(e)}\")\n",
    "        print(\"*************************************************************\")\n",
    "        return f\"Error generating description: {str(e)}\"\n"
   ]
  },
  {
   "cell_type": "markdown",
   "metadata": {
    "id": "ybI50J07nYYb"
   },
   "source": [
    "### Generation examples"
   ]
  },
  {
   "cell_type": "code",
   "execution_count": null,
   "metadata": {
    "colab": {
     "base_uri": "https://localhost:8080/",
     "height": 880
    },
    "executionInfo": {
     "elapsed": 10613,
     "status": "ok",
     "timestamp": 1756482273806,
     "user": {
      "displayName": "S Li",
      "userId": "16183130557533314590"
     },
     "user_tz": -60
    },
    "id": "wYA7hNJBfylP",
    "outputId": "f7a66457-182b-4af2-8c10-b25cb467467e"
   },
   "outputs": [
    {
     "data": {
      "image/png": "[encoded data removed]",
      "text/plain": [
       "<Figure size 640x480 with 1 Axes>"
      ]
     },
     "metadata": {},
     "output_type": "display_data"
    },
    {
     "name": "stdout",
     "output_type": "stream",
     "text": [
      "Query part is: Sheet Metal_1.jpg\n",
      "------------------------------------------------------------\n",
      "The part shown in the image is an L-shaped bracket with four holes. Here's a description and potential manufacturing process:\n",
      "\n",
      "### Description:\n",
      "- **Shape**: L-shaped bracket.\n",
      "- **Features**: \n",
      "  - Two perpendicular flat surfaces.\n",
      "  - Four holes, likely for mounting or fastening.\n",
      "  - Rounded edges for added strength and safety.\n",
      "\n",
      "### Manufacturing Process:\n",
      "1. **Material Selection**: Typically made from metal (steel, aluminum) for strength and durability.\n",
      "\n",
      "2. **Cutting**: \n",
      "   - Start with a flat sheet of metal.\n",
      "   - Use laser cutting or CNC machining to cut the initial shape and holes.\n",
      "\n",
      "3. **Bending**: \n",
      "   - Use a press brake to bend the metal into the L-shape.\n",
      "\n",
      "4. **Drilling**: \n",
      "   - Ensure holes are precisely drilled if not done during the cutting process.\n",
      "\n",
      "5. **Finishing**: \n",
      "   - Deburr edges to remove sharpness.\n",
      "   - Apply surface treatment (e.g., powder coating, anodizing) for corrosion resistance and aesthetics.\n",
      "\n",
      "6. **Quality Control**: \n",
      "   - Inspect dimensions and hole alignment to ensure they meet specifications.\n",
      "\n",
      "This part is commonly used in construction, furniture assembly, or machinery for joining components at right angles.\n"
     ]
    }
   ],
   "source": [
    "\"\"\"\n",
    "no rag generation\n",
    "\"\"\"\n",
    "\n",
    "img1 = '/path/to/the/dataset/5_Classes/Sheet Metal/Sheet Metal_1.jpg' # put in the path to one example in the dataset\n",
    "img_dis = mpimg.imread(img1)\n",
    "\n",
    "plt.imshow(img_dis)\n",
    "plt.axis(\"off\")\n",
    "plt.show()\n",
    "description = generate_description_with_rag1(img1, prompting=2)\n",
    "print(description)"
   ]
  },
  {
   "cell_type": "code",
   "execution_count": null,
   "metadata": {
    "colab": {
     "base_uri": "https://localhost:8080/",
     "height": 359
    },
    "executionInfo": {
     "elapsed": 7917,
     "status": "ok",
     "timestamp": 1756482417492,
     "user": {
      "displayName": "S Li",
      "userId": "16183130557533314590"
     },
     "user_tz": -60
    },
    "id": "ELcQy3uTgnaV",
    "outputId": "329ad95c-fbd4-4e53-9e40-69e91b432d5a"
   },
   "outputs": [
    {
     "data": {
      "image/png": "[encoded data removed]",
      "text/plain": [
       "<Figure size 640x480 with 1 Axes>"
      ]
     },
     "metadata": {},
     "output_type": "display_data"
    },
    {
     "name": "stdout",
     "output_type": "stream",
     "text": [
      "Query part is: Sheet Metal_1.jpg\n",
      "------------------------------------------------------------\n",
      "The target part is likely manufactured using a sheet metal process.\n"
     ]
    }
   ],
   "source": [
    "\"\"\"\n",
    "simple prompting generation\n",
    "\"\"\"\n",
    "\n",
    "img1 = '/path/to/the/dataset/5_Classes/Sheet Metal/Sheet Metal_1.jpg' # put in the path to one example in the dataset\n",
    "img_dis = mpimg.imread(img1)\n",
    "\n",
    "plt.imshow(img_dis)\n",
    "plt.axis(\"off\")\n",
    "plt.show()\n",
    "description = generate_description_with_rag1(img1, prompting=1)\n",
    "print(description)"
   ]
  },
  {
   "cell_type": "code",
   "execution_count": null,
   "metadata": {
    "colab": {
     "base_uri": "https://localhost:8080/",
     "height": 359
    },
    "executionInfo": {
     "elapsed": 8141,
     "status": "ok",
     "timestamp": 1756482337623,
     "user": {
      "displayName": "S Li",
      "userId": "16183130557533314590"
     },
     "user_tz": -60
    },
    "id": "rVdhw_CCiBGL",
    "outputId": "e8139db4-7ccb-41c3-9cdc-b6dc8eba3a10"
   },
   "outputs": [
    {
     "data": {
      "image/png": "[encoded data removed]",
      "text/plain": [
       "<Figure size 640x480 with 1 Axes>"
      ]
     },
     "metadata": {},
     "output_type": "display_data"
    },
    {
     "name": "stdout",
     "output_type": "stream",
     "text": [
      "Query part is: Fabricated_262.jpg\n",
      "------------------------------------------------------------\n",
      "The target part is likely manufactured by a fabricated process.\n"
     ]
    }
   ],
   "source": [
    "\"\"\"\n",
    "simple prompting generation\n",
    "\"\"\"\n",
    "\n",
    "img1 = '/path/to/the/dataset/5_Classes/Fabricated/Fabricated_262.jpg' # put in the path to one example in the dataset\n",
    "img_dis = mpimg.imread(img1)\n",
    "\n",
    "plt.imshow(img_dis)\n",
    "plt.axis(\"off\")\n",
    "plt.show()\n",
    "description = generate_description_with_rag1(img1, prompting=1)\n",
    "print(description)"
   ]
  },
  {
   "cell_type": "code",
   "execution_count": null,
   "metadata": {
    "colab": {
     "base_uri": "https://localhost:8080/",
     "height": 646
    },
    "executionInfo": {
     "elapsed": 16481,
     "status": "ok",
     "timestamp": 1756482442409,
     "user": {
      "displayName": "S Li",
      "userId": "16183130557533314590"
     },
     "user_tz": -60
    },
    "id": "BsIzyRVWK86q",
    "outputId": "f9dfd3f6-b48d-4654-bbcc-8608c6935298"
   },
   "outputs": [
    {
     "data": {
      "image/png": "[encoded data removed]",
      "text/plain": [
       "<Figure size 640x480 with 1 Axes>"
      ]
     },
     "metadata": {},
     "output_type": "display_data"
    },
    {
     "name": "stdout",
     "output_type": "stream",
     "text": [
      "Query part is: Sheet Metal_1.jpg\n",
      "------------------------------------------------------------\n",
      "Step 1: Visual Inspection\n",
      "\n",
      "- **Target Part**: The part has an L-shaped bracket with four holes on one face.\n",
      "- **Similar Parts**: All have an L-shaped bracket with four holes on one face.\n",
      "\n",
      "Step 2: Manufacturing Method Analysis\n",
      "\n",
      "- **Target Part**: The flat surfaces, bends, and holes suggest sheet metal fabrication.\n",
      "- **Similar Parts**: Also indicate sheet metal fabrication due to similar features.\n",
      "\n",
      "Step 3: Comparison\n",
      "\n",
      "- The target part and similar parts are very alike in shape and features, indicating a similar manufacturing process.\n",
      "\n",
      "Step 4: Summary of the Conclusion\n",
      "\n",
      "- The target part is likely manufactured using a sheet metal process, similar to the similar parts.\n"
     ]
    }
   ],
   "source": [
    "\"\"\"\n",
    "CoT generation\n",
    "\"\"\"\n",
    "\n",
    "img1 = '/path/to/the/dataset/5_Classes/Sheet Metal/Sheet Metal_1.jpg' # put in the path to one example in the dataset\n",
    "img_dis = mpimg.imread(img1)\n",
    "\n",
    "plt.imshow(img_dis)\n",
    "plt.axis(\"off\")\n",
    "plt.show()\n",
    "description = generate_description_with_rag1(img1, prompting=0)\n",
    "print(description)"
   ]
  },
  {
   "cell_type": "code",
   "execution_count": null,
   "metadata": {
    "id": "1NQLiAbbgtPG"
   },
   "outputs": [],
   "source": []
  }
 ],
 "metadata": {
  "colab": {
   "machine_shape": "hm",
   "provenance": [],
   "toc_visible": true
  },
  "kernelspec": {
   "display_name": "Python 3",
   "name": "python3"
  },
  "language_info": {
   "codemirror_mode": {
    "name": "ipython",
    "version": 3
   },
   "file_extension": ".py",
   "mimetype": "text/x-python",
   "name": "python",
   "nbconvert_exporter": "python",
   "pygments_lexer": "ipython3",
   "version": "3.8.19"
  }
 },
 "nbformat": 4,
 "nbformat_minor": 0
}
